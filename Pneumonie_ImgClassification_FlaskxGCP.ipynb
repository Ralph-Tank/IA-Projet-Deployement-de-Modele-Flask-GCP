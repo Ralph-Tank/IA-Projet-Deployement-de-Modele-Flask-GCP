{
 "cells": [
  {
   "cell_type": "markdown",
   "id": "83bc4508-d016-4fd8-9aa6-40cef228f720",
   "metadata": {},
   "source": [
    "# **Classification par CNN images poumons. Implémentation Keras (Tensorflow)**"
   ]
  },
  {
   "cell_type": "markdown",
   "id": "d55e3eea-90e9-4cb2-8a43-87852aed9e93",
   "metadata": {},
   "source": [
    "## **<span style=\"color:blue\"> Part 1: Definition de l'architecture des CNN </span>**"
   ]
  },
  {
   "cell_type": "code",
   "execution_count": 2,
   "id": "43359a19-d030-415f-80e4-9de0b8537e74",
   "metadata": {},
   "outputs": [],
   "source": [
    "# Import des modules et bibliothèques\n",
    "import numpy as np\n",
    "import pandas as pd\n",
    "import itertools\n",
    "import os, stat, time\n",
    "from os.path import dirname as up\n",
    "\n",
    "import tensorflow as tf\n",
    "import keras\n",
    "from keras import backend as K\n",
    "from keras.models import Sequential\n",
    "from keras.layers import Activation\n",
    "from keras.layers.core import Dense, Flatten, Dropout\n",
    "from tensorflow.keras.optimizers import Adam\n",
    "from tensorflow.keras.optimizers import RMSprop\n",
    "from keras.metrics import categorical_crossentropy\n",
    "from keras.regularizers import l2\n",
    "from keras.preprocessing.image import ImageDataGenerator\n",
    "from keras.layers.convolutional import *\n",
    "from tensorflow.keras.layers import BatchNormalization\n",
    "from tensorflow.keras.optimizers import SGD\n",
    "\n",
    "from matplotlib import pyplot as plt\n",
    "\n",
    "from sklearn.metrics import confusion_matrix\n",
    "\n",
    "from utils import *\n",
    "from shutil import copyfile\n",
    "import shutil\n",
    "import glob\n",
    "from PIL import Image\n",
    "\n",
    "import warnings\n",
    "warnings.filterwarnings('ignore')\n",
    "%matplotlib inline"
   ]
  },
  {
   "cell_type": "markdown",
   "id": "8543c24e-2ea5-4393-9e52-e928d308d9a8",
   "metadata": {},
   "source": [
    "### **<span style=\"color:blue\">  Data Pre-processing automatisé </span>**\n"
   ]
  },
  {
   "cell_type": "code",
   "execution_count": 3,
   "id": "100fc6e6-a633-4ef2-97e5-1b608ddc0459",
   "metadata": {},
   "outputs": [
    {
     "name": "stdout",
     "output_type": "stream",
     "text": [
      "Tensorflow version = 2.6.0\n",
      "Keras version = 2.6.0\n"
     ]
    }
   ],
   "source": [
    "print('Tensorflow version = {}'.format(tf.__version__))\n",
    "print('Keras version = {}'.format(keras.__version__))"
   ]
  },
  {
   "cell_type": "code",
   "execution_count": 9,
   "id": "cc8d26d7-56ba-4184-a8f2-929e5d9a0cdf",
   "metadata": {},
   "outputs": [
    {
     "name": "stdout",
     "output_type": "stream",
     "text": [
      "Dimensions de l'image pour le CNN = (333, 250, 1)\n"
     ]
    }
   ],
   "source": [
    "# NOMS POUR REPERTOIRES\n",
    "TRAIN_DIR = 'data/train'\n",
    "VALID_DIR = 'data/val'\n",
    "TEST_DIR = 'data/test'\n",
    "l_DIRS = [TRAIN_DIR, VALID_DIR, TEST_DIR]\n",
    "POSITIVE_CLASS = 'NORMAL'\n",
    "ABSTRACT_CLASS = 'PNEUMONIA'\n",
    "\n",
    "# CONSTANTES POUR LES PARAMETRES D'IMAGE\n",
    "INPUT_W = 1200 # pixels\n",
    "INPUT_H = 900  # pixels\n",
    "DIVIDER = 3.6\n",
    "INPUT_DIM = (int(INPUT_W/DIVIDER), int(INPUT_H/DIVIDER), 1)\n",
    "BATCH_SIZE_TRAIN = 64\n",
    "BATCH_SIZE_TEST = 64 \n",
    "BATCH_SIZE_VALID = 16\n",
    "NORMALIZER = 1./255\n",
    "IMAGE_FORMAT = 'jpeg'\n",
    "\n",
    "# Infos sorties\n",
    "print('Dimensions de l\\'image pour le CNN = {}'.format(INPUT_DIM))"
   ]
  },
  {
   "cell_type": "code",
   "execution_count": 10,
   "id": "8d4bee4b-ed8b-4486-b419-e7dfd8106bb1",
   "metadata": {},
   "outputs": [
    {
     "name": "stdout",
     "output_type": "stream",
     "text": [
      "Les données sont valides et peuvent être passées en entrée au modèle.\n",
      "\n",
      "Classes trouvées pour le modèle:\n",
      "{'TRAIN': ['BACTERIA', 'NORMAL', 'VIRUS'], 'VALIDATION': ['BACTERIA', 'NORMAL'], 'TEST': ['BACTERIA', 'NORMAL', 'VIRUS']}\n"
     ]
    }
   ],
   "source": [
    "if abstract_class_exists(ABSTRACT_CLASS, l_DIRS):\n",
    "    structure_origin_data(l_DIRS, IMAGE_FORMAT, POSITIVE_CLASS)\n",
    "\n",
    "classes = classes_for_each_set(l_DIRS)\n",
    "\n",
    "print('Classes trouvées pour le modèle:\\n{}'.format(classes))"
   ]
  },
  {
   "cell_type": "code",
   "execution_count": 6,
   "id": "7cdcbc8c-b3e4-4e4d-815a-cb72b5163f0d",
   "metadata": {},
   "outputs": [
    {
     "name": "stdout",
     "output_type": "stream",
     "text": [
      "Found 5216 images belonging to 3 classes.\n",
      "Found 624 images belonging to 3 classes.\n",
      "Found 16 images belonging to 2 classes.\n"
     ]
    },
    {
     "data": {
      "image/png": "[encoded data removed]",
      "text/plain": [
       "<Figure size 1008x540 with 64 Axes>"
      ]
     },
     "metadata": {
      "needs_background": "light"
     },
     "output_type": "display_data"
    },
    {
     "data": {
      "image/png": "[encoded data removed]",
      "text/plain": [
       "<Figure size 1008x540 with 64 Axes>"
      ]
     },
     "metadata": {
      "needs_background": "light"
     },
     "output_type": "display_data"
    },
    {
     "data": {
      "image/png": "[encoded data removed]",
      "text/plain": [
       "<Figure size 1008x540 with 16 Axes>"
      ]
     },
     "metadata": {
      "needs_background": "light"
     },
     "output_type": "display_data"
    }
   ],
   "source": [
    "# Generation d'images du Train Set et plot\n",
    "TRAIN_BATCHES = ImageDataGenerator(rescale=NORMALIZER).\\\n",
    "    flow_from_directory(TRAIN_DIR,\n",
    "    color_mode='grayscale',\n",
    "    target_size=INPUT_DIM[0:2],\n",
    "    classes=classes['TRAIN'],\n",
    "    class_mode=\"categorical\",\n",
    "    shuffle=True,\n",
    "    batch_size=BATCH_SIZE_TRAIN)\n",
    "\n",
    "imgs, labels = next(TRAIN_BATCHES)  # <-- Extraction des matrices des images et des labels\n",
    "plots(imgs, titles=labels)          # <-- Plot images avec les labels\n",
    "#train_imgs = rgb_to_grayscale(imgs) # <-- Convertion images RGB en Noir et blanc \n",
    "#train_labels = labels\n",
    "\n",
    "# Generation d'images du Test Set et plot\n",
    "TEST_BATCHES = ImageDataGenerator(rescale=NORMALIZER).\\\n",
    "    flow_from_directory(TEST_DIR,\n",
    "    color_mode='grayscale',\n",
    "    target_size=INPUT_DIM[0:2],\n",
    "    classes=classes['TEST'],\n",
    "    class_mode=\"categorical\",\n",
    "    shuffle=True,\n",
    "    batch_size=BATCH_SIZE_TEST)\n",
    "\n",
    "imgs, labels = next(TEST_BATCHES)   # <-- Extraction des matrices des images et des labels\n",
    "plots(imgs, titles=labels)          ## <-- Plot images avec les labels\n",
    "#test_imgs = rgb_to_grayscale(imgs)  # <-- Convertion images RGB en Noir et blanc \n",
    "#test_labels = labels\n",
    "\n",
    "# Generation d'images du Validation Set et plot\n",
    "VAL_BATCHES = ImageDataGenerator(rescale=NORMALIZER).\\\n",
    "    flow_from_directory(VALID_DIR,\n",
    "    color_mode='grayscale',\n",
    "    target_size=INPUT_DIM[0:2],\n",
    "    classes=classes['VALIDATION'],\n",
    "    class_mode=\"categorical\",\n",
    "    shuffle=True,\n",
    "    batch_size=BATCH_SIZE_VALID)\n",
    "\n",
    "imgs, labels = next(VAL_BATCHES)   # <-- Extraction des matrices des images et des labels\n",
    "plots(imgs, titles=labels)         # <-- Plot images avec les labels\n",
    "#val_imgs = rgb_to_grayscale(imgs)  # <-- Convertion images RGB en Noir et blanc \n",
    "#val_labels = labels"
   ]
  },
  {
   "cell_type": "code",
   "execution_count": 8,
   "id": "dcdfb73c-925b-46fa-bd37-0ae76adf2da5",
   "metadata": {},
   "outputs": [
    {
     "name": "stdout",
     "output_type": "stream",
     "text": [
      "data batch shape = (64, 333, 250, 1)\n",
      "labels batch shape = (64, 3)\n"
     ]
    }
   ],
   "source": [
    "# Sorties du generateurs d'images\n",
    "for data_batch, label_batch in TRAIN_BATCHES:\n",
    "    print('data batch shape = {}'.format(data_batch.shape))\n",
    "    print('labels batch shape = {}'.format(label_batch.shape))\n",
    "    break\n",
    "\n"
   ]
  },
  {
   "cell_type": "markdown",
   "id": "3b08c19c-67de-4889-88ce-dcf6a4a17491",
   "metadata": {},
   "source": [
    "### **<span style=\"color:blue\">  Architecture CNN (Keras)</span>**\n"
   ]
  },
  {
   "cell_type": "code",
   "execution_count": 11,
   "id": "3c93a2bd-ac4f-42ca-a482-bd9384e0f9a2",
   "metadata": {},
   "outputs": [
    {
     "name": "stderr",
     "output_type": "stream",
     "text": [
      "2021-09-15 03:25:15.511515: W tensorflow/stream_executor/platform/default/dso_loader.cc:64] Could not load dynamic library 'libcuda.so.1'; dlerror: libcuda.so.1: cannot open shared object file: No such file or directory\n",
      "2021-09-15 03:25:15.511539: W tensorflow/stream_executor/cuda/cuda_driver.cc:269] failed call to cuInit: UNKNOWN ERROR (303)\n",
      "2021-09-15 03:25:15.511559: I tensorflow/stream_executor/cuda/cuda_diagnostics.cc:156] kernel driver does not appear to be running on this host (stankoua-NUC10i7FNH): /proc/driver/nvidia/version does not exist\n",
      "2021-09-15 03:25:15.511765: I tensorflow/core/platform/cpu_feature_guard.cc:142] This TensorFlow binary is optimized with oneAPI Deep Neural Network Library (oneDNN) to use the following CPU instructions in performance-critical operations:  AVX2 FMA\n",
      "To enable them in other operations, rebuild TensorFlow with the appropriate compiler flags.\n"
     ]
    }
   ],
   "source": [
    "# Constuction du modèle CNN\n",
    "model = Sequential()\n",
    "model.add(Conv2D(64, (5, 5), input_shape=(INPUT_DIM)))\n",
    "model.add(Activation('relu'))\n",
    "model.add(MaxPooling2D((3, 3)))\n",
    "\n",
    "model.add(Conv2D(128, (4, 4))) \n",
    "model.add(Activation('relu'))\n",
    "model.add(MaxPooling2D(pool_size=(2, 2)))\n",
    "\n",
    "model.add(Conv2D(512, (3, 3))) \n",
    "model.add(Activation('relu'))\n",
    "model.add(MaxPooling2D(pool_size=(2, 2)))\n",
    "\n",
    "model.add(Conv2D(512, (3, 3))) \n",
    "model.add(Activation('relu'))\n",
    "model.add(MaxPooling2D(pool_size=(2, 2)))\n",
    "\n",
    "model.add(Conv2D(512, (3, 3))) \n",
    "model.add(Activation('relu'))\n",
    "model.add(MaxPooling2D(pool_size=(2, 2)))\n",
    "\n",
    "model.add(Conv2D(512, (2, 2))) \n",
    "model.add(Activation('relu'))\n",
    "model.add(MaxPooling2D(pool_size=(2, 2)))\n",
    "\n",
    "model.add(Flatten()) \n",
    "\n",
    "model.add(Dense(512, kernel_regularizer=regularizers.l2(0.02))) \n",
    "model.add(Activation('relu'))\n",
    "\n",
    "model.add(Dense(3)) \n",
    "model.add(Activation('softmax'))\n",
    "\n"
   ]
  },
  {
   "cell_type": "code",
   "execution_count": 12,
   "id": "d612ad4a-d381-45d6-826d-6df05f76ef1e",
   "metadata": {},
   "outputs": [
    {
     "name": "stdout",
     "output_type": "stream",
     "text": [
      "Model: \"sequential\"\n",
      "_________________________________________________________________\n",
      "Layer (type)                 Output Shape              Param #   \n",
      "=================================================================\n",
      "conv2d (Conv2D)              (None, 329, 246, 64)      1664      \n",
      "_________________________________________________________________\n",
      "activation (Activation)      (None, 329, 246, 64)      0         \n",
      "_________________________________________________________________\n",
      "max_pooling2d (MaxPooling2D) (None, 109, 82, 64)       0         \n",
      "_________________________________________________________________\n",
      "conv2d_1 (Conv2D)            (None, 106, 79, 128)      131200    \n",
      "_________________________________________________________________\n",
      "activation_1 (Activation)    (None, 106, 79, 128)      0         \n",
      "_________________________________________________________________\n",
      "max_pooling2d_1 (MaxPooling2 (None, 53, 39, 128)       0         \n",
      "_________________________________________________________________\n",
      "conv2d_2 (Conv2D)            (None, 51, 37, 512)       590336    \n",
      "_________________________________________________________________\n",
      "activation_2 (Activation)    (None, 51, 37, 512)       0         \n",
      "_________________________________________________________________\n",
      "max_pooling2d_2 (MaxPooling2 (None, 25, 18, 512)       0         \n",
      "_________________________________________________________________\n",
      "conv2d_3 (Conv2D)            (None, 23, 16, 512)       2359808   \n",
      "_________________________________________________________________\n",
      "activation_3 (Activation)    (None, 23, 16, 512)       0         \n",
      "_________________________________________________________________\n",
      "max_pooling2d_3 (MaxPooling2 (None, 11, 8, 512)        0         \n",
      "_________________________________________________________________\n",
      "conv2d_4 (Conv2D)            (None, 9, 6, 512)         2359808   \n",
      "_________________________________________________________________\n",
      "activation_4 (Activation)    (None, 9, 6, 512)         0         \n",
      "_________________________________________________________________\n",
      "max_pooling2d_4 (MaxPooling2 (None, 4, 3, 512)         0         \n",
      "_________________________________________________________________\n",
      "conv2d_5 (Conv2D)            (None, 3, 2, 512)         1049088   \n",
      "_________________________________________________________________\n",
      "activation_5 (Activation)    (None, 3, 2, 512)         0         \n",
      "_________________________________________________________________\n",
      "max_pooling2d_5 (MaxPooling2 (None, 1, 1, 512)         0         \n",
      "_________________________________________________________________\n",
      "flatten (Flatten)            (None, 512)               0         \n",
      "_________________________________________________________________\n",
      "dense (Dense)                (None, 512)               262656    \n",
      "_________________________________________________________________\n",
      "activation_6 (Activation)    (None, 512)               0         \n",
      "_________________________________________________________________\n",
      "dense_1 (Dense)              (None, 3)                 1539      \n",
      "_________________________________________________________________\n",
      "activation_7 (Activation)    (None, 3)                 0         \n",
      "=================================================================\n",
      "Total params: 6,756,099\n",
      "Trainable params: 6,756,099\n",
      "Non-trainable params: 0\n",
      "_________________________________________________________________\n"
     ]
    }
   ],
   "source": [
    "model.summary()"
   ]
  },
  {
   "cell_type": "code",
   "execution_count": 13,
   "id": "1172835d-b74b-4deb-9104-3379a77f2c29",
   "metadata": {},
   "outputs": [],
   "source": [
    "# Define an optimizer for the model\n",
    "opt = Adam(lr=0.00001, beta_1=0.9, beta_2=0.999, epsilon=None, decay=0.0, amsgrad=False)\n",
    "#opt = SGD(lr=0.01, decay=1e-6, momentum=0.85, nesterov=True)\n",
    "#opt = RMSprop(lr=0.001, rho=0.8, epsilon=None, decay=0.0)\n",
    "\n",
    "model.compile(loss='categorical_crossentropy', metrics=['accuracy'], optimizer=opt)"
   ]
  },
  {
   "cell_type": "code",
   "execution_count": 14,
   "id": "4e87e122-25f1-4267-b77e-68513b685b9e",
   "metadata": {},
   "outputs": [
    {
     "name": "stdout",
     "output_type": "stream",
     "text": [
      "steps_per_epoch=81\n",
      "validation_steps=9\n"
     ]
    }
   ],
   "source": [
    "print('steps_per_epoch={}'.format(int(5215 / BATCH_SIZE_TRAIN)))\n",
    "print('validation_steps={}'.format(int(624 / BATCH_SIZE_TEST)))"
   ]
  },
  {
   "cell_type": "markdown",
   "id": "f35be9ba-b906-40ca-b4cd-3474d4180534",
   "metadata": {},
   "source": [
    "### **<span style=\"color:blue\"> Entrainement du CNN sur le Training set </span>**\n"
   ]
  },
  {
   "cell_type": "code",
   "execution_count": 15,
   "id": "aaf37fe4-7b01-4aee-b421-df9b56d6ecec",
   "metadata": {},
   "outputs": [
    {
     "name": "stderr",
     "output_type": "stream",
     "text": [
      "2021-09-15 03:33:09.043623: I tensorflow/compiler/mlir/mlir_graph_optimization_pass.cc:185] None of the MLIR Optimization Passes are enabled (registered 2)\n"
     ]
    },
    {
     "name": "stdout",
     "output_type": "stream",
     "text": [
      "Epoch 1/100\n"
     ]
    },
    {
     "name": "stderr",
     "output_type": "stream",
     "text": [
      "2021-09-15 03:33:10.075330: W tensorflow/core/framework/cpu_allocator_impl.cc:80] Allocation of 1326022656 exceeds 10% of free system memory.\n",
      "2021-09-15 03:33:10.363608: W tensorflow/core/framework/cpu_allocator_impl.cc:80] Allocation of 146440192 exceeds 10% of free system memory.\n",
      "2021-09-15 03:33:10.446736: W tensorflow/core/framework/cpu_allocator_impl.cc:80] Allocation of 274399232 exceeds 10% of free system memory.\n",
      "2021-09-15 03:33:10.803639: W tensorflow/core/framework/cpu_allocator_impl.cc:80] Allocation of 67731456 exceeds 10% of free system memory.\n",
      "2021-09-15 03:33:10.824817: W tensorflow/core/framework/cpu_allocator_impl.cc:80] Allocation of 247332864 exceeds 10% of free system memory.\n"
     ]
    },
    {
     "name": "stdout",
     "output_type": "stream",
     "text": [
      "82/82 - 566s - loss: 11.1241 - accuracy: 0.4850 - val_loss: 10.9976 - val_accuracy: 0.3878\n",
      "Epoch 2/100\n",
      "82/82 - 564s - loss: 10.7797 - accuracy: 0.4850 - val_loss: 10.6644 - val_accuracy: 0.3878\n",
      "Epoch 3/100\n",
      "82/82 - 571s - loss: 10.3925 - accuracy: 0.5518 - val_loss: 10.2155 - val_accuracy: 0.5721\n",
      "Epoch 4/100\n",
      "82/82 - 568s - loss: 9.9367 - accuracy: 0.6522 - val_loss: 9.8108 - val_accuracy: 0.6138\n",
      "Epoch 5/100\n",
      "82/82 - 559s - loss: 9.5954 - accuracy: 0.6643 - val_loss: 9.5078 - val_accuracy: 0.6202\n",
      "Epoch 6/100\n",
      "82/82 - 553s - loss: 9.2991 - accuracy: 0.6858 - val_loss: 9.2254 - val_accuracy: 0.6667\n",
      "Epoch 7/100\n",
      "82/82 - 544s - loss: 9.0356 - accuracy: 0.6915 - val_loss: 9.0341 - val_accuracy: 0.6282\n",
      "Epoch 8/100\n",
      "82/82 - 540s - loss: 8.7625 - accuracy: 0.7155 - val_loss: 8.7509 - val_accuracy: 0.7163\n",
      "Epoch 9/100\n",
      "82/82 - 540s - loss: 8.5195 - accuracy: 0.7278 - val_loss: 8.4490 - val_accuracy: 0.6747\n",
      "Epoch 10/100\n",
      "82/82 - 543s - loss: 8.2765 - accuracy: 0.7333 - val_loss: 8.3816 - val_accuracy: 0.6619\n",
      "Epoch 11/100\n",
      "82/82 - 543s - loss: 8.0530 - accuracy: 0.7442 - val_loss: 8.2462 - val_accuracy: 0.6779\n",
      "Epoch 12/100\n",
      "82/82 - 544s - loss: 7.8378 - accuracy: 0.7400 - val_loss: 7.8569 - val_accuracy: 0.7436\n",
      "Epoch 13/100\n",
      "82/82 - 542s - loss: 7.6167 - accuracy: 0.7565 - val_loss: 7.7522 - val_accuracy: 0.6907\n",
      "Epoch 14/100\n",
      "82/82 - 549s - loss: 7.4167 - accuracy: 0.7546 - val_loss: 7.4810 - val_accuracy: 0.7500\n",
      "Epoch 15/100\n",
      "82/82 - 550s - loss: 7.2233 - accuracy: 0.7628 - val_loss: 7.3382 - val_accuracy: 0.7244\n",
      "Epoch 16/100\n",
      "82/82 - 540s - loss: 7.0322 - accuracy: 0.7627 - val_loss: 6.9794 - val_accuracy: 0.7821\n",
      "Epoch 17/100\n",
      "82/82 - 537s - loss: 6.8444 - accuracy: 0.7651 - val_loss: 6.9740 - val_accuracy: 0.7340\n",
      "Epoch 18/100\n",
      "82/82 - 539s - loss: 6.6653 - accuracy: 0.7740 - val_loss: 6.8263 - val_accuracy: 0.7244\n",
      "Epoch 19/100\n",
      "82/82 - 543s - loss: 6.4954 - accuracy: 0.7743 - val_loss: 6.6384 - val_accuracy: 0.7436\n",
      "Epoch 20/100\n",
      "82/82 - 539s - loss: 6.3236 - accuracy: 0.7759 - val_loss: 6.4517 - val_accuracy: 0.7372\n",
      "Epoch 21/100\n",
      "82/82 - 539s - loss: 6.1684 - accuracy: 0.7722 - val_loss: 6.4419 - val_accuracy: 0.7212\n",
      "Epoch 22/100\n",
      "82/82 - 540s - loss: 6.0069 - accuracy: 0.7824 - val_loss: 5.9958 - val_accuracy: 0.7981\n",
      "Epoch 23/100\n",
      "82/82 - 544s - loss: 5.8485 - accuracy: 0.7828 - val_loss: 6.0092 - val_accuracy: 0.7468\n",
      "Epoch 24/100\n",
      "82/82 - 539s - loss: 5.7122 - accuracy: 0.7797 - val_loss: 5.7167 - val_accuracy: 0.7949\n",
      "Epoch 25/100\n",
      "82/82 - 538s - loss: 5.5609 - accuracy: 0.7837 - val_loss: 5.7273 - val_accuracy: 0.7420\n",
      "Epoch 26/100\n",
      "82/82 - 539s - loss: 5.4191 - accuracy: 0.7855 - val_loss: 5.5348 - val_accuracy: 0.7548\n",
      "Epoch 27/100\n",
      "82/82 - 538s - loss: 5.2826 - accuracy: 0.7849 - val_loss: 5.5230 - val_accuracy: 0.7452\n",
      "Epoch 28/100\n",
      "82/82 - 538s - loss: 5.1506 - accuracy: 0.7841 - val_loss: 5.2893 - val_accuracy: 0.7692\n",
      "Epoch 29/100\n",
      "82/82 - 538s - loss: 5.0247 - accuracy: 0.7878 - val_loss: 5.1255 - val_accuracy: 0.7853\n",
      "Epoch 30/100\n",
      "82/82 - 538s - loss: 4.9002 - accuracy: 0.7931 - val_loss: 4.8960 - val_accuracy: 0.7917\n",
      "Epoch 31/100\n",
      "82/82 - 538s - loss: 4.7748 - accuracy: 0.7945 - val_loss: 4.9883 - val_accuracy: 0.7532\n",
      "Epoch 32/100\n",
      "82/82 - 539s - loss: 4.6554 - accuracy: 0.7935 - val_loss: 4.8009 - val_accuracy: 0.7628\n",
      "Epoch 33/100\n",
      "82/82 - 538s - loss: 4.5492 - accuracy: 0.7958 - val_loss: 4.8681 - val_accuracy: 0.7179\n",
      "Epoch 34/100\n",
      "82/82 - 539s - loss: 4.4318 - accuracy: 0.7987 - val_loss: 4.5878 - val_accuracy: 0.7484\n",
      "Epoch 35/100\n",
      "82/82 - 543s - loss: 4.3232 - accuracy: 0.7935 - val_loss: 4.4440 - val_accuracy: 0.7708\n",
      "Epoch 36/100\n",
      "82/82 - 544s - loss: 4.2227 - accuracy: 0.7964 - val_loss: 4.2592 - val_accuracy: 0.7837\n",
      "Epoch 37/100\n",
      "82/82 - 542s - loss: 4.1159 - accuracy: 0.7989 - val_loss: 4.2371 - val_accuracy: 0.7821\n",
      "Epoch 38/100\n",
      "82/82 - 541s - loss: 4.0134 - accuracy: 0.8025 - val_loss: 4.1413 - val_accuracy: 0.7772\n",
      "Epoch 39/100\n",
      "82/82 - 542s - loss: 3.9337 - accuracy: 0.7939 - val_loss: 4.1372 - val_accuracy: 0.7516\n",
      "Epoch 40/100\n",
      "82/82 - 536s - loss: 3.8308 - accuracy: 0.7993 - val_loss: 3.8154 - val_accuracy: 0.8125\n",
      "Epoch 41/100\n",
      "82/82 - 539s - loss: 3.7424 - accuracy: 0.7989 - val_loss: 3.8450 - val_accuracy: 0.7804\n",
      "Epoch 42/100\n",
      "82/82 - 539s - loss: 3.6445 - accuracy: 0.8052 - val_loss: 3.7375 - val_accuracy: 0.7933\n",
      "Epoch 43/100\n",
      "82/82 - 538s - loss: 3.5590 - accuracy: 0.8027 - val_loss: 3.6261 - val_accuracy: 0.7933\n",
      "Epoch 44/100\n",
      "82/82 - 539s - loss: 3.4828 - accuracy: 0.8006 - val_loss: 3.6900 - val_accuracy: 0.7740\n",
      "Epoch 45/100\n",
      "82/82 - 541s - loss: 3.3955 - accuracy: 0.8060 - val_loss: 3.7046 - val_accuracy: 0.7372\n",
      "Epoch 46/100\n",
      "82/82 - 546s - loss: 3.3186 - accuracy: 0.8039 - val_loss: 3.6178 - val_accuracy: 0.7500\n",
      "Epoch 47/100\n",
      "82/82 - 543s - loss: 3.2409 - accuracy: 0.8075 - val_loss: 3.5428 - val_accuracy: 0.7500\n",
      "Epoch 48/100\n",
      "82/82 - 539s - loss: 3.1717 - accuracy: 0.8067 - val_loss: 3.4532 - val_accuracy: 0.7308\n",
      "Epoch 49/100\n",
      "82/82 - 540s - loss: 3.0989 - accuracy: 0.8085 - val_loss: 3.5347 - val_accuracy: 0.6955\n",
      "Epoch 50/100\n",
      "82/82 - 540s - loss: 3.0243 - accuracy: 0.8094 - val_loss: 3.2888 - val_accuracy: 0.7724\n",
      "Epoch 51/100\n",
      "82/82 - 539s - loss: 2.9512 - accuracy: 0.8146 - val_loss: 3.1231 - val_accuracy: 0.7949\n",
      "Epoch 52/100\n",
      "82/82 - 540s - loss: 2.8860 - accuracy: 0.8152 - val_loss: 3.0121 - val_accuracy: 0.8077\n",
      "Epoch 53/100\n",
      "82/82 - 539s - loss: 2.8231 - accuracy: 0.8135 - val_loss: 2.9163 - val_accuracy: 0.8157\n",
      "Epoch 54/100\n",
      "82/82 - 539s - loss: 2.7598 - accuracy: 0.8127 - val_loss: 2.8630 - val_accuracy: 0.8125\n",
      "Epoch 55/100\n",
      "82/82 - 526s - loss: 2.7037 - accuracy: 0.8144 - val_loss: 2.8929 - val_accuracy: 0.7869\n",
      "Epoch 56/100\n",
      "82/82 - 490s - loss: 2.6504 - accuracy: 0.8137 - val_loss: 2.8929 - val_accuracy: 0.7724\n",
      "Epoch 57/100\n",
      "82/82 - 490s - loss: 2.5880 - accuracy: 0.8117 - val_loss: 2.7055 - val_accuracy: 0.7853\n",
      "Epoch 58/100\n",
      "82/82 - 490s - loss: 2.5312 - accuracy: 0.8161 - val_loss: 2.6055 - val_accuracy: 0.8205\n",
      "Epoch 59/100\n",
      "82/82 - 490s - loss: 2.4912 - accuracy: 0.8123 - val_loss: 2.5708 - val_accuracy: 0.8173\n",
      "Epoch 60/100\n",
      "82/82 - 489s - loss: 2.4345 - accuracy: 0.8121 - val_loss: 2.6121 - val_accuracy: 0.7756\n",
      "Epoch 61/100\n",
      "82/82 - 490s - loss: 2.3785 - accuracy: 0.8188 - val_loss: 2.4466 - val_accuracy: 0.8221\n",
      "Epoch 62/100\n",
      "82/82 - 490s - loss: 2.3374 - accuracy: 0.8169 - val_loss: 2.4660 - val_accuracy: 0.8045\n",
      "Epoch 63/100\n",
      "82/82 - 490s - loss: 2.2953 - accuracy: 0.8148 - val_loss: 2.4622 - val_accuracy: 0.7949\n",
      "Epoch 64/100\n",
      "82/82 - 490s - loss: 2.2401 - accuracy: 0.8223 - val_loss: 2.4446 - val_accuracy: 0.7821\n",
      "Epoch 65/100\n",
      "82/82 - 490s - loss: 2.1962 - accuracy: 0.8223 - val_loss: 2.4260 - val_accuracy: 0.7740\n",
      "Epoch 66/100\n",
      "82/82 - 490s - loss: 2.1544 - accuracy: 0.8221 - val_loss: 2.2621 - val_accuracy: 0.8205\n",
      "Epoch 67/100\n",
      "82/82 - 490s - loss: 2.1316 - accuracy: 0.8135 - val_loss: 2.4957 - val_accuracy: 0.7356\n",
      "Epoch 68/100\n",
      "82/82 - 491s - loss: 2.0745 - accuracy: 0.8246 - val_loss: 2.2897 - val_accuracy: 0.7804\n",
      "Epoch 69/100\n",
      "82/82 - 490s - loss: 2.0465 - accuracy: 0.8227 - val_loss: 2.1321 - val_accuracy: 0.8269\n",
      "Epoch 70/100\n",
      "82/82 - 490s - loss: 2.0061 - accuracy: 0.8190 - val_loss: 2.1530 - val_accuracy: 0.7965\n",
      "Epoch 71/100\n",
      "82/82 - 491s - loss: 1.9702 - accuracy: 0.8259 - val_loss: 2.3342 - val_accuracy: 0.7163\n",
      "Epoch 72/100\n",
      "82/82 - 490s - loss: 1.9398 - accuracy: 0.8263 - val_loss: 2.1124 - val_accuracy: 0.7901\n",
      "Epoch 73/100\n",
      "82/82 - 490s - loss: 1.9053 - accuracy: 0.8273 - val_loss: 2.3946 - val_accuracy: 0.7067\n",
      "Epoch 74/100\n",
      "82/82 - 490s - loss: 1.8691 - accuracy: 0.8280 - val_loss: 2.0920 - val_accuracy: 0.7532\n",
      "Epoch 75/100\n",
      "82/82 - 491s - loss: 1.8348 - accuracy: 0.8301 - val_loss: 1.9703 - val_accuracy: 0.8029\n",
      "Epoch 76/100\n",
      "82/82 - 489s - loss: 1.8064 - accuracy: 0.8309 - val_loss: 1.9905 - val_accuracy: 0.7885\n",
      "Epoch 77/100\n",
      "82/82 - 489s - loss: 1.7809 - accuracy: 0.8265 - val_loss: 2.0561 - val_accuracy: 0.7420\n",
      "Epoch 78/100\n",
      "82/82 - 490s - loss: 1.7508 - accuracy: 0.8324 - val_loss: 1.9742 - val_accuracy: 0.7628\n",
      "Epoch 79/100\n",
      "82/82 - 490s - loss: 1.7260 - accuracy: 0.8328 - val_loss: 2.1394 - val_accuracy: 0.7308\n",
      "Epoch 80/100\n",
      "82/82 - 490s - loss: 1.6966 - accuracy: 0.8330 - val_loss: 2.2621 - val_accuracy: 0.6795\n",
      "Epoch 81/100\n",
      "82/82 - 491s - loss: 1.6727 - accuracy: 0.8317 - val_loss: 1.9226 - val_accuracy: 0.7740\n",
      "Epoch 82/100\n",
      "82/82 - 490s - loss: 1.6510 - accuracy: 0.8311 - val_loss: 2.0985 - val_accuracy: 0.7292\n",
      "Epoch 83/100\n",
      "82/82 - 493s - loss: 1.6269 - accuracy: 0.8347 - val_loss: 1.9045 - val_accuracy: 0.7612\n",
      "Epoch 84/100\n",
      "82/82 - 497s - loss: 1.6069 - accuracy: 0.8367 - val_loss: 1.6899 - val_accuracy: 0.8317\n",
      "Epoch 85/100\n",
      "82/82 - 498s - loss: 1.5874 - accuracy: 0.8359 - val_loss: 1.8498 - val_accuracy: 0.7724\n",
      "Epoch 86/100\n",
      "82/82 - 491s - loss: 1.5580 - accuracy: 0.8401 - val_loss: 1.7746 - val_accuracy: 0.7772\n",
      "Epoch 87/100\n",
      "82/82 - 490s - loss: 1.5449 - accuracy: 0.8342 - val_loss: 1.7676 - val_accuracy: 0.7644\n",
      "Epoch 88/100\n",
      "82/82 - 490s - loss: 1.5209 - accuracy: 0.8426 - val_loss: 2.1095 - val_accuracy: 0.7115\n",
      "Epoch 89/100\n",
      "82/82 - 490s - loss: 1.5092 - accuracy: 0.8374 - val_loss: 1.7285 - val_accuracy: 0.7853\n",
      "Epoch 90/100\n",
      "82/82 - 489s - loss: 1.4896 - accuracy: 0.8424 - val_loss: 1.8301 - val_accuracy: 0.7692\n",
      "Epoch 91/100\n",
      "82/82 - 490s - loss: 1.4749 - accuracy: 0.8390 - val_loss: 1.6669 - val_accuracy: 0.7869\n",
      "Epoch 92/100\n",
      "82/82 - 490s - loss: 1.4477 - accuracy: 0.8420 - val_loss: 1.9632 - val_accuracy: 0.7212\n",
      "Epoch 93/100\n",
      "82/82 - 490s - loss: 1.4328 - accuracy: 0.8468 - val_loss: 1.9690 - val_accuracy: 0.7067\n",
      "Epoch 94/100\n",
      "82/82 - 490s - loss: 1.4180 - accuracy: 0.8478 - val_loss: 1.8682 - val_accuracy: 0.7388\n",
      "Epoch 95/100\n",
      "82/82 - 489s - loss: 1.4059 - accuracy: 0.8451 - val_loss: 1.8824 - val_accuracy: 0.7228\n",
      "Epoch 96/100\n",
      "82/82 - 490s - loss: 1.3878 - accuracy: 0.8482 - val_loss: 1.7390 - val_accuracy: 0.7452\n",
      "Epoch 97/100\n",
      "82/82 - 493s - loss: 1.3738 - accuracy: 0.8526 - val_loss: 1.7023 - val_accuracy: 0.7708\n",
      "Epoch 98/100\n",
      "82/82 - 498s - loss: 1.3655 - accuracy: 0.8461 - val_loss: 2.0749 - val_accuracy: 0.6891\n",
      "Epoch 99/100\n",
      "82/82 - 492s - loss: 1.3513 - accuracy: 0.8451 - val_loss: 1.7981 - val_accuracy: 0.7308\n",
      "Epoch 100/100\n",
      "82/82 - 489s - loss: 1.3313 - accuracy: 0.8493 - val_loss: 1.8365 - val_accuracy: 0.7179\n",
      "CPU times: user 5d 11h 22min 43s, sys: 6h 35min 38s, total: 5d 17h 58min 22s\n",
      "Wall time: 14h 25min 38s\n"
     ]
    },
    {
     "data": {
      "text/plain": [
       "<keras.callbacks.History at 0x7f7e65c006a0>"
      ]
     },
     "execution_count": 15,
     "metadata": {},
     "output_type": "execute_result"
    }
   ],
   "source": [
    "%%time\n",
    "model.fit_generator(\n",
    "    TRAIN_BATCHES,\n",
    "    steps_per_epoch=len(TRAIN_BATCHES),\n",
    "    validation_data=TEST_BATCHES,\n",
    "    validation_steps=len(TEST_BATCHES),\n",
    "    epochs=100,\n",
    "    verbose=2\n",
    ")\n",
    "\n",
    "# Paramètres:\n",
    "# steps_per_epoch = nombre d'images / batch_size = 5215 / 64 = 82:\n",
    "# --- Nombre total d'étapes (batches des samples) à renvoyer du generateur avant de passer à l'epoch suivante. \n",
    "#     Il doit être égal au nombre unique de samples de notre data set divisé par le batch size.\n",
    "# Verbose:\n",
    "# -- 0 (quiet): affiche juste le nombre total des tests executés et le résultat global\n",
    "# -- 1 (default): pareil que le verbose 0. Affiche juste en plus un point pour chaque test reussis ou un F pour chaque echec\n",
    "# -- 2 (verbose): Une ligne par epoch; affiche le résultat de chaque test. "
   ]
  },
  {
   "cell_type": "code",
   "execution_count": 39,
   "id": "38f72555-da2b-4397-b6c1-f0076a336691",
   "metadata": {},
   "outputs": [
    {
     "data": {
      "image/png": "[encoded data removed]",
      "text/plain": [
       "<Figure size 1008x288 with 1 Axes>"
      ]
     },
     "metadata": {
      "needs_background": "light"
     },
     "output_type": "display_data"
    },
    {
     "data": {
      "image/png": "[encoded data removed]",
      "text/plain": [
       "<Figure size 1008x288 with 1 Axes>"
      ]
     },
     "metadata": {
      "needs_background": "light"
     },
     "output_type": "display_data"
    }
   ],
   "source": [
    "from utils2 import *\n",
    "plot_model_result(model)"
   ]
  },
  {
   "cell_type": "code",
   "execution_count": 40,
   "id": "bb4c30b6-9c99-40ac-8446-779d5e2df1af",
   "metadata": {},
   "outputs": [
    {
     "name": "stdout",
     "output_type": "stream",
     "text": [
      "     val_acc       acc   val_loss       loss\n",
      "0   0.387821  0.485046  10.997593  11.124081\n",
      "1   0.387821  0.485046  10.664424  10.779655\n",
      "2   0.572115  0.551764  10.215453  10.392471\n",
      "3   0.613782  0.652224   9.810766   9.936707\n",
      "4   0.620192  0.664302   9.507759   9.595383\n",
      "..       ...       ...        ...        ...\n",
      "95  0.745192  0.848159   1.738993   1.387802\n",
      "96  0.770833  0.852569   1.702279   1.373785\n",
      "97  0.689103  0.846051   2.074942   1.365471\n",
      "98  0.730769  0.845092   1.798116   1.351321\n",
      "99  0.717949  0.849310   1.836467   1.331299\n",
      "\n",
      "[100 rows x 4 columns]\n",
      "\n",
      "\n",
      "Les résultat du modèle sont sauvegardés dans le fichier: model_results_2021-09-15_19-19.csv\n"
     ]
    }
   ],
   "source": [
    "# Sauvegarde des resultas \n",
    "df = save_model_result(model)"
   ]
  },
  {
   "cell_type": "markdown",
   "id": "067aad33-5727-4b25-a32c-1864613d5679",
   "metadata": {},
   "source": [
    "## **<span style=\"color:blue\"> Part 2 : Export du modèle et ouverture pour le deploiement (Flask)</span>**"
   ]
  },
  {
   "cell_type": "code",
   "execution_count": 46,
   "id": "d7db1e21-4878-48b4-bc81-14bffa08894c",
   "metadata": {},
   "outputs": [
    {
     "name": "stdout",
     "output_type": "stream",
     "text": [
      "Modèle Sauvegardé en local (sur le disque)\n"
     ]
    }
   ],
   "source": [
    "# Sauvegarde des poids du Modèle \n",
    "model.save_weights('cnn_model_100_epochs_adam_20210915.h5')\n",
    "\n",
    "# Sauvegarde du Modèle en format JSON\n",
    "model_json = model.to_json()\n",
    "with open('cnn_model_adam_20210915.json', 'w') as json_file:\n",
    "    json_file.write(model_json)\n",
    "    \n",
    "print('Modèle Sauvegardé en local (sur le disque)')"
   ]
  },
  {
   "cell_type": "code",
   "execution_count": 43,
   "id": "ebeb4bee-7f5e-4e70-a83c-537a7c1c0c8f",
   "metadata": {},
   "outputs": [],
   "source": [
    "# ------------------------------------------------------------------------\n",
    "# Chargement et sauvegarde du modèle et de ses poids\n",
    "'''\n",
    "    Les poids du modèle sont sauvegardé au format HDF5.\n",
    "    La structure du modèle peut être décrite et sauvegardée en utilisant 2 formats differents: JSON and YAML.\n",
    "'''\n",
    "\n",
    "# Import des dépendances\n",
    "#from keras.optimizers import Adam\n",
    "from tensorflow.keras.models import model_from_json\n",
    "from tensorflow.python.framework import ops\n",
    "ops.reset_default_graph()\n",
    "import h5py \n",
    "#from PIL import Image\n",
    "#import PIL\n",
    "#from vb100_utils import *"
   ]
  },
  {
   "cell_type": "code",
   "execution_count": null,
   "id": "aa664647-019c-4797-a371-579d47e93ac3",
   "metadata": {},
   "outputs": [
    {
     "name": "stdout",
     "output_type": "stream",
     "text": [
      "la version h5py est 3.1.0\n"
     ]
    }
   ],
   "source": [
    "print('la version h5py est {}'.format(h5py.__version__))"
   ]
  },
  {
   "cell_type": "code",
   "execution_count": 50,
   "id": "29d8ad2e-76a0-45a8-859f-ced3a295ba51",
   "metadata": {},
   "outputs": [
    {
     "data": {
      "text/plain": [
       "'/home/stankoua/Documents/Ralph/Projects/AI_Pneumonie_FlaskxCGP'"
      ]
     },
     "execution_count": 50,
     "metadata": {},
     "output_type": "execute_result"
    }
   ],
   "source": [
    "import os\n",
    "os.path.realpath('.')\n",
    "Documents/Ralph/Projects/AI_Pneumonie_FlaskxCGP/cnn_model_100_epochs_adam_20210915.h5"
   ]
  },
  {
   "cell_type": "code",
   "execution_count": null,
   "id": "9e5f30dc-748c-4f52-8433-de919e9e5951",
   "metadata": {},
   "outputs": [],
   "source": [
    "import os\n",
    "PATH = os.path.realpath('.')\n",
    "PATH + '/' + '"
   ]
  },
  {
   "cell_type": "code",
   "execution_count": 51,
   "id": "edd005db-7eee-4289-84af-2376a58fd532",
   "metadata": {
    "tags": []
   },
   "outputs": [],
   "source": [
    "# Récuperer l'architecture du CNN\n",
    "json_file = open('./cnn_model_adam_20210915.json')\n",
    "loaded_model_json = json_file.read()\n",
    "json_file.close()\n",
    "loaded_model = model_from_json(loaded_model_json)\n",
    "\n",
    "# Récuperer les poids du model \n",
    "loaded_model.load_weights('./cnn_model_100_epochs_adam_20210915.h5')"
   ]
  },
  {
   "cell_type": "code",
   "execution_count": 76,
   "id": "dc3e9661-6ad6-4f18-9cd8-9beb216519ee",
   "metadata": {},
   "outputs": [
    {
     "data": {
      "text/plain": [
       "(333, 250, 1)"
      ]
     },
     "execution_count": 76,
     "metadata": {},
     "output_type": "execute_result"
    }
   ],
   "source": [
    "INPUT_DIM"
   ]
  },
  {
   "cell_type": "code",
   "execution_count": 83,
   "id": "34b1af62-40c1-432b-9205-b1d1931f501e",
   "metadata": {
    "tags": []
   },
   "outputs": [
    {
     "name": "stdout",
     "output_type": "stream",
     "text": [
      "<class 'PIL.JpegImagePlugin.JpegImageFile'>\n",
      "po array = (250, 333)\n",
      "<class 'numpy.ndarray'> (1, 333, 250, 1)\n",
      "<keras.engine.sequential.Sequential object at 0x7f7e661af970>\n",
      "[[6.2722205e-03 2.6378766e-04 9.9346393e-01]] [2]\n"
     ]
    }
   ],
   "source": [
    "'''\n",
    "    Ici on va simuler ce qui va ce passer lors du déploiement sur le cloud.\n",
    "    C'est à dire lire une image donnée en entrée, la préparer pour l'évaluation par le CNN\n",
    "    et proposer une prédiction en retournant une classe issue du dictionnnaire qui a été utilisé pour l'entrainement.\n",
    "'''\n",
    "\n",
    "# Definition de l'optimiseur et compilation du modèle \n",
    "opt = Adam(lr=0.00001, beta_1=0.9, beta_2=0.999, epsilon=None, decay=0.0)\n",
    "loaded_model.compile(loss='categorical_crossentropy', metrics=['accuracy'], optimizer='rmsprop')\n",
    "\n",
    "\n",
    "'''\n",
    "    Attention ! Pour ce block l'optimiseur est entré manuellement (rmsprop) comme un objet Tensorflow.\n",
    "    Pour le future, il faut le changer pour l'inclure comme une variable avec un ensemble de paramètres \n",
    "    vu cette fois ci comme une variable Tensorflow.\n",
    "\n",
    "'''\n",
    "\n",
    "IMG = Image.open('data/val/BACTERIA/person1947_bacteria_4876.jpeg')\n",
    "print(type(IMG))\n",
    "IMG = IMG.resize((333, 250))\n",
    "IMG = np.array(IMG)\n",
    "print('po array = {}'.format(IMG.shape))\n",
    "IMG = np.true_divide(IMG, 255)\n",
    "IMG = IMG.reshape(1, 333, 250, 1)\n",
    "print(type(IMG), IMG.shape)\n",
    "\n",
    "predictions = loaded_model.predict(IMG)\n",
    "\n",
    "print(loaded_model)\n",
    "predictions_c = np.argmax(predictions,axis=1)\n",
    "print(predictions, predictions_c)\n"
   ]
  },
  {
   "cell_type": "code",
   "execution_count": 84,
   "id": "327ad7e0-8fb5-4ca7-af92-028a9b9842d8",
   "metadata": {},
   "outputs": [
    {
     "name": "stdout",
     "output_type": "stream",
     "text": [
      "Prédiction du modèle : virus.\n"
     ]
    }
   ],
   "source": [
    "classes = {'TRAIN': ['BACTERIA', 'NORMAL', 'VIRUS'],\n",
    "           'VALIDATION': ['BACTERIA', 'NORMAL'],\n",
    "           'TEST': ['BACTERIA', 'NORMAL', 'VIRUS']}\n",
    "\n",
    "predicted_class = classes['TRAIN'][predictions_c[0]]\n",
    "print('Prédiction du modèle : {}.'.format(predicted_class.lower()))"
   ]
  },
  {
   "cell_type": "code",
   "execution_count": null,
   "id": "ba5dfada-8e88-4b7a-9ff1-ed72b236716d",
   "metadata": {},
   "outputs": [],
   "source": []
  }
 ],
 "metadata": {
  "kernelspec": {
   "display_name": "Python 3 (ipykernel)",
   "language": "python",
   "name": "python3"
  },
  "language_info": {
   "codemirror_mode": {
    "name": "ipython",
    "version": 3
   },
   "file_extension": ".py",
   "mimetype": "text/x-python",
   "name": "python",
   "nbconvert_exporter": "python",
   "pygments_lexer": "ipython3",
   "version": "3.9.6"
  }
 },
 "nbformat": 4,
 "nbformat_minor": 5
}
